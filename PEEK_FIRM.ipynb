{
 "cells": [
  {
   "cell_type": "code",
   "execution_count": null,
   "id": "7500478e",
   "metadata": {},
   "outputs": [],
   "source": [
    "%load_ext autoreload\n",
    "%autoreload 2\n",
    "\n",
    "from pathlib import Path\n",
    "import pandas as pd\n",
    "import gc\n",
    "import re\n",
    "from qp_utils import (\n",
    "    expand_vars, load_year, save_compact_meta,\n",
    "    decode_labels, show_value_table_json, peek_sav_columns,\n",
    ")\n",
    "\n",
    "RAW_DIR = Path(\"Spss\")\n",
    "BASE_YEAR = 2010\n",
    "years = list(range(2010, 2023+1))\n",
    "files = {}\n",
    "for y in years:\n",
    "    p = RAW_DIR / f\"QP_Empresas_{y}.sav\"\n",
    "    if p.exists():\n",
    "        files[y] = p\n",
    "\n",
    "print()\n",
    "def strip_year_tag_any(name: str) -> str:\n",
    "    s = re.sub(r'_(\\d{2})(?=(_|$))', '', name)\n",
    "    s = re.sub(r'(?<=\\D)(\\d{2})$', '', s)\n",
    "    return s\n",
    "def base_vars_from_sav(path: Path) -> set[str]:\n",
    "    cols = peek_sav_columns(path)[\"var\"].tolist()\n",
    "    return {strip_year_tag_any(v) for v in cols}\n",
    "\n",
    "vars_by_year: dict[int, set[str]] = {}\n",
    "for y, p in sorted(files.items()):\n",
    "    s = base_vars_from_sav(p)\n",
    "    vars_by_year[y] = s\n",
    "    print(f\"Year {y}: {len(s)} base variables in {p.name}\")\n",
    "\n",
    "def base_vars_from_sav(path: Path) -> set[str]:\n",
    "    cols = peek_sav_columns(path)[\"var\"].tolist()\n",
    "    return {strip_year_tag_any(v) for v in cols}\n",
    "\n",
    "def build_presence_table(files: dict[int, Path], base_year: int, diff_only: bool = True):\n",
    "    if base_year not in files:\n",
    "        raise ValueError(f\"base_year {base_year} not in files\")\n",
    "\n",
    "    # Build sets of base variable names per year\n",
    "    vars_by_year: dict[int, set[str]] = {y: base_vars_from_sav(p) for y, p in files.items()}\n",
    "\n",
    "    # Union of all variable base-names, so we see extras not in base too\n",
    "    all_vars = sorted(set().union(*vars_by_year.values()))\n",
    "\n",
    "    # Build presence matrix\n",
    "    years_sorted = [base_year] + sorted([y for y in files if y != base_year])\n",
    "    data = {\n",
    "        y: [v in vars_by_year[y] for v in all_vars]\n",
    "        for y in years_sorted\n",
    "    }\n",
    "    presence = pd.DataFrame(data, index=all_vars)\n",
    "\n",
    "    # Optionally filter to differences vs base column\n",
    "    base_col = years_sorted[0]\n",
    "    if diff_only:\n",
    "        mask = (presence.T != presence[base_col]).any()\n",
    "        presence = presence.loc[mask]\n",
    "\n",
    "    return presence\n",
    "\n",
    "presence_df = build_presence_table(files, BASE_YEAR, diff_only=True)\n",
    "\n",
    "# See the raw boolean table (if you want)\n",
    "presence_df.head(40)\n",
    "\n",
    "# wanted_tpl = [\"ano_{yy}\",\"nuemp_{yy}\",\"nuest_{yy}\",\"ntrab_{yy}\",\"sexo_{yy}\",\"idade_{yy}_TB_COD\",\"dtadm_{yy}\"]\n",
    "\n",
    "# df_2008, meta_2008 = load_year(2008, files[2008], cols=expand_vars(wanted_tpl, 2008))\n",
    "# df_2009, meta_2009 = load_year(2009, files[2009], cols=expand_vars(wanted_tpl, 2009))\n",
    "\n",
    "# save_compact_meta(meta_2008, 2008, df_2008)\n",
    "# save_compact_meta(meta_2009, 2009, df_2009)\n",
    "\n",
    "# df = pd.concat([df_2008, df_2009], ignore_index=True, copy=False)\n",
    "# del df_2008, df_2009, meta_2008, meta_2009; gc.collect()\n",
    "\n",
    "# # decode labels where available (e.g., sexo)\n",
    "# decode_labels(df, \"sexo\")\n",
    "\n",
    "# # quick table for 2009\n",
    "# show_value_table_json(df, \"sexo\", 2009, sort_index=True)"
   ]
  },
  {
   "cell_type": "code",
   "execution_count": null,
   "id": "43c42bfb",
   "metadata": {},
   "outputs": [],
   "source": [
    "presence_df[[2009, 2008]].head(40)"
   ]
  },
  {
   "cell_type": "code",
   "execution_count": null,
   "id": "d6451e5f",
   "metadata": {},
   "outputs": [],
   "source": [
    "peek_sav_columns(files[2009])"
   ]
  },
  {
   "cell_type": "code",
   "execution_count": null,
   "id": "dd193422",
   "metadata": {},
   "outputs": [],
   "source": [
    "peek_sav_columns(files[2010])"
   ]
  },
  {
   "cell_type": "code",
   "execution_count": null,
   "id": "74849fe9",
   "metadata": {},
   "outputs": [],
   "source": []
  }
 ],
 "metadata": {
  "kernelspec": {
   "display_name": "Python 3.13 (venv)",
   "language": "python",
   "name": "py313"
  },
  "language_info": {
   "codemirror_mode": {
    "name": "ipython",
    "version": 3
   },
   "file_extension": ".py",
   "mimetype": "text/x-python",
   "name": "python",
   "nbconvert_exporter": "python",
   "pygments_lexer": "ipython3",
   "version": "3.13.7"
  }
 },
 "nbformat": 4,
 "nbformat_minor": 5
}
